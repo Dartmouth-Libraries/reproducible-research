{
 "cells": [
  {
   "cell_type": "code",
   "execution_count": null,
   "metadata": {},
   "outputs": [],
   "source": []
  },
  {
   "cell_type": "code",
   "execution_count": 56,
   "metadata": {},
   "outputs": [],
   "source": [
    "import pandas as pd\n",
    "import string, re\n",
    "from pathlib import Path\n",
    "from collections import Counter"
   ]
  },
  {
   "cell_type": "markdown",
   "metadata": {},
   "source": [
    "## Import Web of Science Categories & Groups List"
   ]
  },
  {
   "cell_type": "code",
   "execution_count": 57,
   "metadata": {},
   "outputs": [
    {
     "name": "stdout",
     "output_type": "stream",
     "text": [
      "(513, 7)\n"
     ]
    },
    {
     "data": {
      "text/html": [
       "<div>\n",
       "<style scoped>\n",
       "    .dataframe tbody tr th:only-of-type {\n",
       "        vertical-align: middle;\n",
       "    }\n",
       "\n",
       "    .dataframe tbody tr th {\n",
       "        vertical-align: top;\n",
       "    }\n",
       "\n",
       "    .dataframe thead th {\n",
       "        text-align: right;\n",
       "    }\n",
       "</style>\n",
       "<table border=\"1\" class=\"dataframe\">\n",
       "  <thead>\n",
       "    <tr style=\"text-align: right;\">\n",
       "      <th></th>\n",
       "      <th>Category</th>\n",
       "      <th>Group</th>\n",
       "      <th>Edition</th>\n",
       "      <th># of journals</th>\n",
       "      <th>Citable Items</th>\n",
       "      <th>Total Citations</th>\n",
       "      <th>Median impact factor</th>\n",
       "    </tr>\n",
       "  </thead>\n",
       "  <tbody>\n",
       "    <tr>\n",
       "      <th>0</th>\n",
       "      <td>ACOUSTICS</td>\n",
       "      <td>Physics</td>\n",
       "      <td>SCIE</td>\n",
       "      <td>31</td>\n",
       "      <td>5,318</td>\n",
       "      <td>260,308</td>\n",
       "      <td>2.3</td>\n",
       "    </tr>\n",
       "    <tr>\n",
       "      <th>1</th>\n",
       "      <td>ACOUSTICS</td>\n",
       "      <td>Physics</td>\n",
       "      <td>ESCI</td>\n",
       "      <td>9</td>\n",
       "      <td>415</td>\n",
       "      <td>2,675</td>\n",
       "      <td>0.7</td>\n",
       "    </tr>\n",
       "    <tr>\n",
       "      <th>2</th>\n",
       "      <td>AGRICULTURAL ECONOMICS &amp; POLICY</td>\n",
       "      <td>Agricultural Sciences;Economics &amp; Business</td>\n",
       "      <td>SCIE</td>\n",
       "      <td>22</td>\n",
       "      <td>1,170</td>\n",
       "      <td>57,764</td>\n",
       "      <td>3.3</td>\n",
       "    </tr>\n",
       "    <tr>\n",
       "      <th>3</th>\n",
       "      <td>AGRICULTURAL ECONOMICS &amp; POLICY</td>\n",
       "      <td>Agricultural Sciences;Economics &amp; Business</td>\n",
       "      <td>ESCI</td>\n",
       "      <td>16</td>\n",
       "      <td>796</td>\n",
       "      <td>7,349</td>\n",
       "      <td>1.2</td>\n",
       "    </tr>\n",
       "    <tr>\n",
       "      <th>4</th>\n",
       "      <td>AGRICULTURAL ENGINEERING</td>\n",
       "      <td>Agricultural Sciences;Engineering</td>\n",
       "      <td>SCIE</td>\n",
       "      <td>15</td>\n",
       "      <td>4,338</td>\n",
       "      <td>306,990</td>\n",
       "      <td>2.2</td>\n",
       "    </tr>\n",
       "  </tbody>\n",
       "</table>\n",
       "</div>"
      ],
      "text/plain": [
       "                          Category  \\\n",
       "0                        ACOUSTICS   \n",
       "1                        ACOUSTICS   \n",
       "2  AGRICULTURAL ECONOMICS & POLICY   \n",
       "3  AGRICULTURAL ECONOMICS & POLICY   \n",
       "4         AGRICULTURAL ENGINEERING   \n",
       "\n",
       "                                        Group Edition  # of journals  \\\n",
       "0                                     Physics    SCIE             31   \n",
       "1                                     Physics    ESCI              9   \n",
       "2  Agricultural Sciences;Economics & Business    SCIE             22   \n",
       "3  Agricultural Sciences;Economics & Business    ESCI             16   \n",
       "4           Agricultural Sciences;Engineering    SCIE             15   \n",
       "\n",
       "  Citable Items Total Citations Median impact factor  \n",
       "0         5,318         260,308                  2.3  \n",
       "1           415           2,675                  0.7  \n",
       "2         1,170          57,764                  3.3  \n",
       "3           796           7,349                  1.2  \n",
       "4         4,338         306,990                  2.2  "
      ]
     },
     "execution_count": 57,
     "metadata": {},
     "output_type": "execute_result"
    }
   ],
   "source": [
    "categ_df = pd.read_csv(\"../data/JCR_CategoriesResults_04_2024.csv\", encoding = \"utf-8\")\n",
    "print(categ_df.shape)\n",
    "categ_df.head()"
   ]
  },
  {
   "cell_type": "code",
   "execution_count": 58,
   "metadata": {},
   "outputs": [
    {
     "data": {
      "text/html": [
       "<div>\n",
       "<style scoped>\n",
       "    .dataframe tbody tr th:only-of-type {\n",
       "        vertical-align: middle;\n",
       "    }\n",
       "\n",
       "    .dataframe tbody tr th {\n",
       "        vertical-align: top;\n",
       "    }\n",
       "\n",
       "    .dataframe thead th {\n",
       "        text-align: right;\n",
       "    }\n",
       "</style>\n",
       "<table border=\"1\" class=\"dataframe\">\n",
       "  <thead>\n",
       "    <tr style=\"text-align: right;\">\n",
       "      <th></th>\n",
       "      <th>Category</th>\n",
       "      <th>Group</th>\n",
       "      <th>Edition</th>\n",
       "      <th># of journals</th>\n",
       "      <th>Citable Items</th>\n",
       "      <th>Total Citations</th>\n",
       "      <th>Median impact factor</th>\n",
       "    </tr>\n",
       "  </thead>\n",
       "  <tbody>\n",
       "    <tr>\n",
       "      <th>508</th>\n",
       "      <td>WATER RESOURCES</td>\n",
       "      <td>Engineering;Environment/Ecology;Geosciences</td>\n",
       "      <td>ESCI</td>\n",
       "      <td>28</td>\n",
       "      <td>1,820</td>\n",
       "      <td>18,516</td>\n",
       "      <td>1.7</td>\n",
       "    </tr>\n",
       "    <tr>\n",
       "      <th>509</th>\n",
       "      <td>WOMENS STUDIES</td>\n",
       "      <td>Social Sciences, General</td>\n",
       "      <td>SSCI</td>\n",
       "      <td>46</td>\n",
       "      <td>2,181</td>\n",
       "      <td>93,808</td>\n",
       "      <td>1.6</td>\n",
       "    </tr>\n",
       "    <tr>\n",
       "      <th>510</th>\n",
       "      <td>WOMENS STUDIES</td>\n",
       "      <td>Social Sciences, General</td>\n",
       "      <td>ESCI</td>\n",
       "      <td>18</td>\n",
       "      <td>338</td>\n",
       "      <td>2,994</td>\n",
       "      <td>0.4</td>\n",
       "    </tr>\n",
       "    <tr>\n",
       "      <th>511</th>\n",
       "      <td>ZOOLOGY</td>\n",
       "      <td>Biology &amp; Biochemistry;Environment/Ecology;Pla...</td>\n",
       "      <td>SCIE</td>\n",
       "      <td>177</td>\n",
       "      <td>11,489</td>\n",
       "      <td>464,470</td>\n",
       "      <td>1.3</td>\n",
       "    </tr>\n",
       "    <tr>\n",
       "      <th>512</th>\n",
       "      <td>ZOOLOGY</td>\n",
       "      <td>Biology &amp; Biochemistry;Environment/Ecology;Pla...</td>\n",
       "      <td>ESCI</td>\n",
       "      <td>5</td>\n",
       "      <td>229</td>\n",
       "      <td>2,007</td>\n",
       "      <td>0.7</td>\n",
       "    </tr>\n",
       "  </tbody>\n",
       "</table>\n",
       "</div>"
      ],
      "text/plain": [
       "            Category                                              Group  \\\n",
       "508  WATER RESOURCES        Engineering;Environment/Ecology;Geosciences   \n",
       "509   WOMENS STUDIES                           Social Sciences, General   \n",
       "510   WOMENS STUDIES                           Social Sciences, General   \n",
       "511          ZOOLOGY  Biology & Biochemistry;Environment/Ecology;Pla...   \n",
       "512          ZOOLOGY  Biology & Biochemistry;Environment/Ecology;Pla...   \n",
       "\n",
       "    Edition  # of journals Citable Items Total Citations Median impact factor  \n",
       "508    ESCI             28         1,820          18,516                  1.7  \n",
       "509    SSCI             46         2,181          93,808                  1.6  \n",
       "510    ESCI             18           338           2,994                  0.4  \n",
       "511    SCIE            177        11,489         464,470                  1.3  \n",
       "512    ESCI              5           229           2,007                  0.7  "
      ]
     },
     "execution_count": 58,
     "metadata": {},
     "output_type": "execute_result"
    }
   ],
   "source": [
    "categ_df.tail()"
   ]
  },
  {
   "cell_type": "code",
   "execution_count": 59,
   "metadata": {},
   "outputs": [],
   "source": [
    "# need to convert Citabe Items and Total Citations columns into int\n",
    "\n",
    "categ_df['Citable Items'] = categ_df['Citable Items'].str.replace(\",\", \"\").astype(int)\n",
    "categ_df['Total Citations'] = categ_df['Total Citations'].str.replace(\",\", \"\").astype(int)"
   ]
  },
  {
   "cell_type": "code",
   "execution_count": 60,
   "metadata": {},
   "outputs": [
    {
     "name": "stdout",
     "output_type": "stream",
     "text": [
      "(254, 3)\n"
     ]
    }
   ],
   "source": [
    "# combine SCIE & ESCI categories\n",
    "categ_df = categ_df.groupby([\"Category\", \"Group\"]).agg({\"# of journals\": \"sum\", \"Citable Items\": \"sum\", \n",
    "                                             \"Total Citations\": \"sum\"})\n",
    "print(categ_df.shape)\n",
    "# convert Category and Group indices back to columns\n",
    "categ_df = categ_df.reset_index()"
   ]
  },
  {
   "cell_type": "code",
   "execution_count": 61,
   "metadata": {},
   "outputs": [],
   "source": [
    "outputdir = Path(\"../data\")\n",
    "categ_df.to_csv(Path(outputdir, \"JCR_CategoriesResults_groups.csv\"), encoding = \"utf-8\")"
   ]
  },
  {
   "cell_type": "code",
   "execution_count": 54,
   "metadata": {},
   "outputs": [],
   "source": [
    "# split delimited string of research groups into lists\n",
    "categ_df[\"Group\"] = categ_df[\"Group\"].fillna(\"\")\n",
    "categ_df[\"Group\"] = categ_df.loc[:, \"Group\"].str.split(\";\")\n",
    "categ_df[\"Group\"] = categ_df[\"Group\"].apply(lambda x: [item.strip() for item in x])"
   ]
  },
  {
   "cell_type": "code",
   "execution_count": 55,
   "metadata": {},
   "outputs": [],
   "source": [
    "# export category df with list of groups\n",
    "outputdir = Path(\"../data\")\n",
    "categ_df.to_csv(Path(outputdir, \"JCR_CategoriesResults_grouplists.csv\"))"
   ]
  },
  {
   "cell_type": "code",
   "execution_count": 46,
   "metadata": {},
   "outputs": [
    {
     "name": "stdout",
     "output_type": "stream",
     "text": [
      "(448, 5)\n"
     ]
    },
    {
     "data": {
      "text/html": [
       "<div>\n",
       "<style scoped>\n",
       "    .dataframe tbody tr th:only-of-type {\n",
       "        vertical-align: middle;\n",
       "    }\n",
       "\n",
       "    .dataframe tbody tr th {\n",
       "        vertical-align: top;\n",
       "    }\n",
       "\n",
       "    .dataframe thead th {\n",
       "        text-align: right;\n",
       "    }\n",
       "</style>\n",
       "<table border=\"1\" class=\"dataframe\">\n",
       "  <thead>\n",
       "    <tr style=\"text-align: right;\">\n",
       "      <th></th>\n",
       "      <th>Category</th>\n",
       "      <th>Group</th>\n",
       "      <th># of journals</th>\n",
       "      <th>Citable Items</th>\n",
       "      <th>Total Citations</th>\n",
       "    </tr>\n",
       "  </thead>\n",
       "  <tbody>\n",
       "    <tr>\n",
       "      <th>0</th>\n",
       "      <td>ACOUSTICS</td>\n",
       "      <td>Physics</td>\n",
       "      <td>40</td>\n",
       "      <td>5733</td>\n",
       "      <td>262983</td>\n",
       "    </tr>\n",
       "    <tr>\n",
       "      <th>1</th>\n",
       "      <td>AGRICULTURAL ECONOMICS &amp; POLICY</td>\n",
       "      <td>Agricultural Sciences</td>\n",
       "      <td>38</td>\n",
       "      <td>1966</td>\n",
       "      <td>65113</td>\n",
       "    </tr>\n",
       "    <tr>\n",
       "      <th>1</th>\n",
       "      <td>AGRICULTURAL ECONOMICS &amp; POLICY</td>\n",
       "      <td>Economics &amp; Business</td>\n",
       "      <td>38</td>\n",
       "      <td>1966</td>\n",
       "      <td>65113</td>\n",
       "    </tr>\n",
       "    <tr>\n",
       "      <th>2</th>\n",
       "      <td>AGRICULTURAL ENGINEERING</td>\n",
       "      <td>Agricultural Sciences</td>\n",
       "      <td>18</td>\n",
       "      <td>4611</td>\n",
       "      <td>308328</td>\n",
       "    </tr>\n",
       "    <tr>\n",
       "      <th>2</th>\n",
       "      <td>AGRICULTURAL ENGINEERING</td>\n",
       "      <td>Engineering</td>\n",
       "      <td>18</td>\n",
       "      <td>4611</td>\n",
       "      <td>308328</td>\n",
       "    </tr>\n",
       "  </tbody>\n",
       "</table>\n",
       "</div>"
      ],
      "text/plain": [
       "                          Category                  Group  # of journals  \\\n",
       "0                        ACOUSTICS                Physics             40   \n",
       "1  AGRICULTURAL ECONOMICS & POLICY  Agricultural Sciences             38   \n",
       "1  AGRICULTURAL ECONOMICS & POLICY   Economics & Business             38   \n",
       "2         AGRICULTURAL ENGINEERING  Agricultural Sciences             18   \n",
       "2         AGRICULTURAL ENGINEERING            Engineering             18   \n",
       "\n",
       "   Citable Items  Total Citations  \n",
       "0           5733           262983  \n",
       "1           1966            65113  \n",
       "1           1966            65113  \n",
       "2           4611           308328  \n",
       "2           4611           308328  "
      ]
     },
     "execution_count": 46,
     "metadata": {},
     "output_type": "execute_result"
    }
   ],
   "source": [
    "categ_df_explode = categ_df.explode(\"Group\")\n",
    "print(categ_df_explode.shape)\n",
    "categ_df_explode.head()"
   ]
  },
  {
   "cell_type": "code",
   "execution_count": 47,
   "metadata": {},
   "outputs": [
    {
     "data": {
      "text/plain": [
       "Category\n",
       "HISTORY & PHILOSOPHY OF SCIENCE              4\n",
       "AREA STUDIES                                 4\n",
       "COMMUNICATION                                4\n",
       "AGRICULTURE, MULTIDISCIPLINARY               4\n",
       "AGRONOMY                                     4\n",
       "                                            ..\n",
       "LITERATURE                                   1\n",
       "LITERATURE, AFRICAN, AUSTRALIAN, CANADIAN    1\n",
       "LITERATURE, AMERICAN                         1\n",
       "LITERATURE, BRITISH ISLES                    1\n",
       "LITERARY THEORY & CRITICISM                  1\n",
       "Name: count, Length: 254, dtype: int64"
      ]
     },
     "execution_count": 47,
     "metadata": {},
     "output_type": "execute_result"
    }
   ],
   "source": [
    "categ_df_explode[\"Category\"].value_counts()"
   ]
  },
  {
   "cell_type": "code",
   "execution_count": 48,
   "metadata": {},
   "outputs": [
    {
     "data": {
      "text/plain": [
       "Group\n",
       "Clinical Medicine                       59\n",
       "Social Sciences, General                41\n",
       "Engineering                             41\n",
       "Multidisciplinary                       36\n",
       "Physics                                 34\n",
       "Biology & Biochemistry                  34\n",
       "Economics & Business                    21\n",
       "Chemistry                               21\n",
       "Plant & Animal Science                  17\n",
       "Materials Science                       17\n",
       "Literature & Language                   17\n",
       "Psychiatry/Psychology                   16\n",
       "Computer Science                        14\n",
       "Geosciences                             14\n",
       "Environment/Ecology                     13\n",
       "Mathematics                             12\n",
       "Visual & Performing Arts                10\n",
       "History & Archaeology                    9\n",
       "Arts & Humanities, Interdisciplinary     8\n",
       "Agricultural Sciences                    7\n",
       "Philosophy & Religion                    7\n",
       "Name: count, dtype: int64"
      ]
     },
     "execution_count": 48,
     "metadata": {},
     "output_type": "execute_result"
    }
   ],
   "source": [
    "categ_df_explode[\"Group\"].value_counts()"
   ]
  },
  {
   "cell_type": "markdown",
   "metadata": {},
   "source": [
    "### Things to do\n",
    "\n",
    "1. if I apply this to a WoS dataset it could get a little complicated:\n",
    "    + each WoS paper can have multiple WC categories\n",
    "    + each WC category could have multiple groups\n",
    "    + thus a paper with 3 WC categories could be explode out to 8 different groups (although several could be duplicates that would need to be re-aggregated)\n",
    "2. possible procedure:\n",
    "    + explode WoS documents dataset by WC category\n",
    "    + map list of WoS groups to each WC category in exploded WoS dataset\n",
    "    + explode the WoS groups\n",
    "    + remove duplicate WoS groups for one paper\n",
    "\n"
   ]
  },
  {
   "cell_type": "code",
   "execution_count": null,
   "metadata": {},
   "outputs": [],
   "source": []
  }
 ],
 "metadata": {
  "kernelspec": {
   "display_name": ".venv",
   "language": "python",
   "name": "python3"
  },
  "language_info": {
   "codemirror_mode": {
    "name": "ipython",
    "version": 3
   },
   "file_extension": ".py",
   "mimetype": "text/x-python",
   "name": "python",
   "nbconvert_exporter": "python",
   "pygments_lexer": "ipython3",
   "version": "3.11.4"
  }
 },
 "nbformat": 4,
 "nbformat_minor": 2
}
