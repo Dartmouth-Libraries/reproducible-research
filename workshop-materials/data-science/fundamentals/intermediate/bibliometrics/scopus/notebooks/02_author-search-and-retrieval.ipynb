{
 "cells": [
  {
   "cell_type": "markdown",
   "metadata": {},
   "source": [
    "# Search for Authors and Retrieve Their Data"
   ]
  },
  {
   "cell_type": "markdown",
   "metadata": {},
   "source": [
    "## Setting up the Scopus API Key\n",
    "\n",
    "You should have your Scopus API Key available. If you have not yet requested a key or do not know where to find it, review the documentation in notebook \"01\".\n",
    "\n",
    "The first time you run the code cell below, it will open a small prompt window (usually appearing near the top of the screen), which asks you to paste in your API Key.\n",
    "\n",
    "![Initial prompt window for entering your API Key](..\\images\\enter_key.png)\n",
    "\n",
    "Then, a second window will appear asking for an institional token. That is not necessary, so just press enter."
   ]
  },
  {
   "cell_type": "code",
   "execution_count": null,
   "metadata": {},
   "outputs": [],
   "source": [
    "import pybliometrics\n",
    "from pybliometrics.scopus.utils import config"
   ]
  },
  {
   "cell_type": "markdown",
   "metadata": {},
   "source": [
    "Now, your Scopus API Key is stored in a configuration file on your computer so you should not need to enter it again, unless you move or delete the configuration file. To find where the configuration file is on your computer, run the following code:"
   ]
  },
  {
   "cell_type": "code",
   "execution_count": null,
   "metadata": {},
   "outputs": [],
   "source": [
    "pybliometrics.scopus.utils.constants.CONFIG_FILE"
   ]
  },
  {
   "cell_type": "markdown",
   "metadata": {},
   "source": [
    "## Use your Scopus API from within the Dartmouth online network\n",
    "\n",
    "+ Be sure that you are within the campus network (either on campus or logged into the vpn) to ensure the API will retrieve all requested results\n",
    "\n",
    "+ Otherwise some requests will return the error: `Scopus401Error: The requestor is not authorized to access the requested view or fields of the resource`"
   ]
  },
  {
   "cell_type": "code",
   "execution_count": null,
   "metadata": {},
   "outputs": [],
   "source": []
  },
  {
   "cell_type": "markdown",
   "metadata": {},
   "source": [
    "## Types of Bibliometric Data\n",
    "\n",
    "Most bibliometric data is stored at the document level. That is, bibliometric databases record metadata for each individual article, report, book, or other paper. However, this data can also be aggregated in various ways. Thus, some common types of bibliometric data include:\n",
    "\n",
    "* document-level data\n",
    "* author-level summary data + document-level data for each document this an author (co-)authored\n",
    "* publication-level summary data and metrics (measuring the \"impact\" of a journal, for example, by quantifying the number of citations or its articles)\n",
    "+ institutional-level metadata \n",
    "\n",
    "In this lesson, we will begin with an author's name, distinguish this particular author from others with the same name, and then retrieve data for the documents (co-)authored by this researcher."
   ]
  },
  {
   "cell_type": "markdown",
   "metadata": {},
   "source": [
    "## Get Information for one single author"
   ]
  },
  {
   "cell_type": "markdown",
   "metadata": {},
   "source": [
    "Using the [Pybliometrics](https://pybliometrics.readthedocs.io/en/stable/) Python library, we can begin by extracting metadata for one single author. However, unless you have an unusual first and last name combination (like me), you will first need to identify the correct individual. For example if you search for \"Jane Smith\" you might need to parse through data for multiple authors named \"Jane Smith\" and identify correct matches. \n",
    "\n",
    "For example, Jane Smith at Dartmouth may be a different person than Jane Smith at Vassar, but she may be the same person as Jane Smith at UNH (Scopus records often have not been aggregated to merge records of the same person when they move to another institution).\n",
    "\n",
    "To begin we will search for the [Spanish chemist Rafael Luque who has been suspended by his institution in Spain for academic impropriety](https://cen.acs.org/research-integrity/Highly-cited-chemist-suspended-claiming-to-be-affiliated-with-Russian-and-Saudi-universities/101/i12) related to a highly dubious publication profile (co-authoring 60-70 papers annually) and for accepting salaries as an adjunct scholar at Saudi and Russian universities (while still employed in Spain), which wanted his publication and citation recod to boost their rankings.\n",
    "\n",
    "We will first use the **AuthorSearch API** to find the correct Rafael Luque. We will then use the **AuthorRetrieval API** to retrieve information about his documents"
   ]
  },
  {
   "cell_type": "code",
   "execution_count": null,
   "metadata": {},
   "outputs": [],
   "source": [
    "from pybliometrics.scopus import AuthorSearch\n",
    "lastname = \"Luque\"\n",
    "firstname = \"Rafael\"\n",
    "au = AuthorSearch(f\"AUTHLAST({lastname}) and AUTHFIRST({firstname})\")"
   ]
  },
  {
   "cell_type": "code",
   "execution_count": null,
   "metadata": {},
   "outputs": [],
   "source": [
    "au.authors"
   ]
  },
  {
   "cell_type": "markdown",
   "metadata": {},
   "source": [
    "The AuthorSearch command sends a **request** for information using the search query above. The API then sends a **response** with the request information, whichb we have saved in the variable `au`.\n",
    "\n",
    "If we just call `au` we just receive a wrapper for the information. To retrieve specific information about the authors that matched this query, we need to be more specific."
   ]
  },
  {
   "cell_type": "code",
   "execution_count": null,
   "metadata": {},
   "outputs": [],
   "source": [
    "?au"
   ]
  },
  {
   "cell_type": "code",
   "execution_count": null,
   "metadata": {},
   "outputs": [],
   "source": [
    "dir(au)"
   ]
  },
  {
   "cell_type": "code",
   "execution_count": null,
   "metadata": {},
   "outputs": [],
   "source": [
    "au.authors\n",
    "\n",
    "#eid: '9-s2.0-26643003700'\n",
    "#orcid: '0000-0003-4190-1916'"
   ]
  },
  {
   "cell_type": "markdown",
   "metadata": {},
   "source": [
    "The first entry in the results above, the \"Rafael Luque\" from RUDN appears to be our suspiciously prolific author. Although, observe that this Rafael Luque may have multiple records as Scopus often produces multiple records for individuals who have worked at multiple institutions. But, for this exercise, let's just retrieve information for the Rafael Luque from RUDN."
   ]
  },
  {
   "cell_type": "code",
   "execution_count": null,
   "metadata": {},
   "outputs": [],
   "source": [
    "full_eid = au.authors[0].eid\n",
    "full_eid"
   ]
  },
  {
   "cell_type": "code",
   "execution_count": null,
   "metadata": {},
   "outputs": [],
   "source": [
    "eid = full_eid.split(\"-\")[-1]\n",
    "eid"
   ]
  },
  {
   "cell_type": "code",
   "execution_count": null,
   "metadata": {},
   "outputs": [],
   "source": [
    "# full_eid doesn't work, but eid does\n",
    "au2 = AuthorSearch(f\"AU-ID({eid})\")"
   ]
  },
  {
   "cell_type": "code",
   "execution_count": null,
   "metadata": {},
   "outputs": [],
   "source": [
    "au2.authors"
   ]
  },
  {
   "cell_type": "markdown",
   "metadata": {},
   "source": [
    "retrieve specific info"
   ]
  },
  {
   "cell_type": "markdown",
   "metadata": {},
   "source": [
    "Other ways to narrow down author searches:\n",
    "* include affiliations or affiliation ids\n",
    "* include subject areas\n",
    "* include middle names or initials"
   ]
  },
  {
   "cell_type": "markdown",
   "metadata": {},
   "source": [
    "## Exercise\n",
    "\n",
    "Search for an author you know well (could be yourself or a colleague!). How hard is it to parse their publication record from the record of authors with similar names?  \n",
    "\n",
    "For authors with common names, you can further filter the results by adding in affiliation or other information. See the [Search Tips page](https://dev.elsevier.com/sc_search_tips.html) for more information about these search fields."
   ]
  },
  {
   "cell_type": "code",
   "execution_count": null,
   "metadata": {},
   "outputs": [],
   "source": [
    "lastname = \"Mikecz\"\n",
    "firstname = \"Jeremy\"\n",
    "au2 = AuthorSearch(f\"AUTHLAST({lastname}) and AUTHFIRST({firstname})\")"
   ]
  },
  {
   "cell_type": "code",
   "execution_count": null,
   "metadata": {},
   "outputs": [],
   "source": [
    "au2.authors"
   ]
  },
  {
   "cell_type": "markdown",
   "metadata": {},
   "source": [
    "## Author Information Retrieval"
   ]
  },
  {
   "cell_type": "code",
   "execution_count": null,
   "metadata": {},
   "outputs": [],
   "source": [
    "from pybliometrics.scopus import AuthorRetrieval\n",
    "eid = '26643003700'\n",
    "ar = AuthorRetrieval(eid)\n",
    "ar"
   ]
  },
  {
   "cell_type": "code",
   "execution_count": null,
   "metadata": {},
   "outputs": [],
   "source": [
    "print(ar.indexed_name)\n",
    "print(ar.affiliation_current)\n",
    "print(\"Number of (co-)authored documents:\", ar.document_count)\n",
    "print(\"Number of citations in these documents:\", ar.citation_count)\n",
    "print(\"Number of papers citing this author's documents:\", ar.cited_by_count)"
   ]
  },
  {
   "cell_type": "code",
   "execution_count": null,
   "metadata": {},
   "outputs": [],
   "source": [
    "ar.get_documents()"
   ]
  },
  {
   "cell_type": "code",
   "execution_count": null,
   "metadata": {},
   "outputs": [],
   "source": [
    "import pandas as pd\n",
    "\n",
    "doc_df = pd.DataFrame(ar.get_documents())\n",
    "doc_df.head()"
   ]
  },
  {
   "cell_type": "code",
   "execution_count": null,
   "metadata": {},
   "outputs": [],
   "source": [
    "doc_df.to_csv(f\"../data/{lastname}_{firstname}_{eid}_documents.csv\", encoding = 'utf-8')"
   ]
  },
  {
   "cell_type": "markdown",
   "metadata": {},
   "source": [
    "## Exercise\n",
    "\n",
    "Retrieve information for all documents written by an author of your choosing. Following the code above, place this information into a dataframe and export as a csv."
   ]
  },
  {
   "cell_type": "code",
   "execution_count": null,
   "metadata": {},
   "outputs": [],
   "source": [
    "my_eid = '56749154000'\n",
    "lastname = \"Mikecz\"\n",
    "firstname = \"Jeremy\"\n",
    "ar = AuthorRetrieval(my_eid)\n",
    "doc_df = pd.DataFrame(ar.get_documents())\n",
    "doc_df.head()\n",
    "doc_df.to_csv(f\"../data/{lastname}_{firstname}_{eid}_mydocuments.csv\", encoding = 'utf-8')\n"
   ]
  },
  {
   "cell_type": "code",
   "execution_count": null,
   "metadata": {},
   "outputs": [],
   "source": []
  }
 ],
 "metadata": {
  "kernelspec": {
   "display_name": ".venv",
   "language": "python",
   "name": "python3"
  },
  "language_info": {
   "codemirror_mode": {
    "name": "ipython",
    "version": 3
   },
   "file_extension": ".py",
   "mimetype": "text/x-python",
   "name": "python",
   "nbconvert_exporter": "python",
   "pygments_lexer": "ipython3",
   "version": "3.11.4"
  }
 },
 "nbformat": 4,
 "nbformat_minor": 2
}
