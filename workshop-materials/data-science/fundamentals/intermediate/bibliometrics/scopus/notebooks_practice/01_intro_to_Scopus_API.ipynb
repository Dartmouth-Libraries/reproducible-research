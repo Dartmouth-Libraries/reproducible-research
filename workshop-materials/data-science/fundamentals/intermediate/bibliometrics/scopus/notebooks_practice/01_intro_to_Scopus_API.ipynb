{
 "cells": [
  {
   "cell_type": "markdown",
   "metadata": {},
   "source": [
    "# An Introduction to the Scopus API\n",
    "\n",
    "\n",
    "\n",
    "\n",
    "\n"
   ]
  },
  {
   "cell_type": "markdown",
   "metadata": {},
   "source": [
    "## What are APIs?\n",
    "\n",
    "An **Application Programming Interface** or **API** is a set of protocols that allow software applications to communicate with each other. They allow developers to integrate data, services and capabilities from other applications. Application owners often create APIs to make their data and functions available to others. \n",
    "\n",
    "While there are different types of APIs, the most commonly used today are web APIs that allow an application owner to share their application's functionality or data over the internet.\n",
    "\n",
    "For an in-depth explanation and demonstration of how APIs work, please see the [APIs in Python](https://git.dartmouth.edu/lib-digital-strategies/RDS/workshops/computational-tools/apis-in-python) workshop materials, created by Research Data Service's Simon Stone."
   ]
  },
  {
   "cell_type": "markdown",
   "metadata": {},
   "source": [
    "## What can APIs to bibliometric databases like Scopus allow us to do?\n",
    "\n",
    "Bibliometric platforms like the Web of Science, Scopus, Dimensions, Semantic Scholar, OpenCitations, and others allow researchers (with institutional access!) to access their large databases. \n",
    "\n",
    "However, what if you need to retrieve large amounts of data from these datasets? Frequently retrieve updated bibliometric data? Quickly perform multi-step searches (i.e. search for a list of authors, retrieve all documents they (co-)authored, and then retrieve info about documents those documents cited...)?\n",
    "\n",
    "For these cases, using the platforms' APIs may save you a lot of time and energy.\n",
    "\n",
    "At Dartmouth, we have access to the Web of Science Starter API and a series of Scopus APIs among others. Since, the WoS Starter API is somewhat limited, we will focus this lesson on working with the Scopus APIs."
   ]
  },
  {
   "cell_type": "markdown",
   "metadata": {},
   "source": [
    "## The Scopus APIs\n",
    "\n",
    "### Possible Use Cases\n",
    "\n",
    "* automate the retrieval of information from a list or dataset of hundreds or thousands of author names/ids or documents names/ids.\n",
    "* embed a retrieval API into your webpage to periodically update the number of citations of your articles.\n",
    "\n"
   ]
  },
  {
   "cell_type": "markdown",
   "metadata": {},
   "source": [
    "## Requesting a Scopus API Key"
   ]
  },
  {
   "cell_type": "markdown",
   "metadata": {},
   "source": [
    "\n",
    "* If you don't already have one, create a bibliometrics project folder on your computer to store the lesson materials\n",
    "* Navigate to the Scopus search page at [scopus.com](https://www.scopus.com)\n",
    "* Login using your institutional (Dartmouth) account.\n",
    "* Select \"Scopus API\" at the bottom of the page.\n",
    "* If you don't already have a Scopus API Key, select \"I want an API Key\" and follow the instructions.\n",
    "* If you already have a key and need to retrieve it, select \"My API Key\" at the top of the page.\n",
    "* Store your key in a plain-text file within your bibliometrics project folder so you can easily find it when needed."
   ]
  },
  {
   "cell_type": "markdown",
   "metadata": {},
   "source": [
    "## Pybliometrics\n",
    "\n",
    "Once you have a Scopus API key, you may directly request and retrieve Scopus data using the API from the command line, or from within programs written in Python, R, or other programming languages.\n",
    "\n",
    "This workshop, however, introduces [Pybliometrics](https://pybliometrics.readthedocs.io/en/stable/), a Python library designed specifically for enable the easier extraction of data from Scopus using its API. \n",
    "\n",
    "Open the link above to review Pybliometrics documentation. Then explore the following:\n",
    "* review the documentation homepage to learn more about this library\n",
    "* select the **Classes** tab to review. Each of these classes corresponds to a specific Scopus API. Note: there are three main types of APIs:\n",
    "    * Search APIs: Search for an author, document, or affiliation by a search query and retrieve a variety of metadata fields about that particular author / document / affiliation. Especially useful is the unique Scopus identifier (the \"eid\") provided for each author / doc / affil. You can then use these eids to retrieve more information about each of these items using...\n",
    "    * Retrieval APIs: Retrieve detailed data about documents (using the AbstractRetrieval API), affiliations, and authors. Note: while Search APIS provide Scopus ids (eids), which can then be used by these Retrieval APIs, these APIs can also search by DOI, PubMed id, or Publisher Item Identifier (PII).\n",
    "    * Metadata APIs: Retrieve additional data and metrics about a paper, publication / journal, and subject classifications.\n",
    "\n",
    "\n",
    "\n"
   ]
  },
  {
   "cell_type": "markdown",
   "metadata": {},
   "source": [
    "## Trying the Scopus API\n",
    "\n",
    "To begin experimenting with the Scopus API - after acquiring a Scopus API key and reading the above - please continue on to notebook \"02\" in this folder."
   ]
  }
 ],
 "metadata": {
  "language_info": {
   "name": "python"
  }
 },
 "nbformat": 4,
 "nbformat_minor": 2
}
